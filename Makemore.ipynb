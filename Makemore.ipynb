{
 "cells": [
  {
   "cell_type": "code",
   "execution_count": 1,
   "id": "initial_id",
   "metadata": {
    "collapsed": true,
    "ExecuteTime": {
     "end_time": "2023-12-23T13:29:00.315545Z",
     "start_time": "2023-12-23T13:28:58.753846Z"
    }
   },
   "outputs": [],
   "source": [
    "import torch\n",
    "import pandas as pd\n",
    "import numpy as np\n",
    "import random\n",
    "\n",
    "import torch.nn.functional as F\n",
    "\n",
    "import matplotlib.pyplot as plt\n",
    "from sklearn.decomposition import PCA"
   ]
  },
  {
   "cell_type": "code",
   "execution_count": 2,
   "outputs": [],
   "source": [
    "tempDf = pd.read_csv('Dataset-Indian-Names-master/Indian-Male-Names.csv')\n",
    "namesList = tempDf['name'][tempDf['name'].notna()].tolist()\n",
    "tempDf = pd.read_csv('Dataset-Indian-Names-master/Indian-Female-Names.csv')\n",
    "namesList.extend(tempDf['name'][tempDf['name'].notna()].tolist())"
   ],
   "metadata": {
    "collapsed": false,
    "ExecuteTime": {
     "end_time": "2023-12-23T13:29:00.916672Z",
     "start_time": "2023-12-23T13:29:00.895545Z"
    }
   },
   "id": "69990fa864997253"
  },
  {
   "cell_type": "code",
   "execution_count": 3,
   "outputs": [],
   "source": [
    "namesList = namesList + open('Dataset-Indian-Names-master/names.txt', 'r').read().splitlines()"
   ],
   "metadata": {
    "collapsed": false,
    "ExecuteTime": {
     "end_time": "2023-12-23T13:29:01.396056Z",
     "start_time": "2023-12-23T13:29:01.389598Z"
    }
   },
   "id": "f08a4c27230a0881"
  },
  {
   "cell_type": "code",
   "execution_count": 4,
   "outputs": [],
   "source": [
    "uniqueChar = set()\n",
    "for name in namesList:\n",
    "        for char in name:\n",
    "            uniqueChar.add(char)\n"
   ],
   "metadata": {
    "collapsed": false,
    "ExecuteTime": {
     "end_time": "2023-12-23T13:29:03.397803Z",
     "start_time": "2023-12-23T13:29:03.393907Z"
    }
   },
   "id": "f5a937d24dff5fb6"
  },
  {
   "cell_type": "code",
   "execution_count": 5,
   "outputs": [
    {
     "name": "stdout",
     "output_type": "stream",
     "text": [
      "Total names :- 62205\n",
      "Total unique characters :- 99\n"
     ]
    }
   ],
   "source": [
    "startChar = '<S>'\n",
    "endChar = '<E>'\n",
    "uniqueChar.add(startChar)\n",
    "uniqueChar.add(endChar)\n",
    "print(f'Total names :- {len(namesList)}')\n",
    "print(f'Total unique characters :- {len(uniqueChar)}')"
   ],
   "metadata": {
    "collapsed": false,
    "ExecuteTime": {
     "end_time": "2023-12-23T13:29:08.563283Z",
     "start_time": "2023-12-23T13:29:08.560746Z"
    }
   },
   "id": "336d107262b0406c"
  },
  {
   "cell_type": "code",
   "execution_count": 6,
   "outputs": [
    {
     "data": {
      "text/plain": "['zylas',\n 'zyran',\n 'zyrie',\n 'zyron',\n 'zzyzx',\n 'barjraj',\n 'ramdin verma',\n 'sharat chandran',\n 'birender mandal',\n 'amit']"
     },
     "execution_count": 6,
     "metadata": {},
     "output_type": "execute_result"
    }
   ],
   "source": [
    "namesList[-5:] + namesList[:5]"
   ],
   "metadata": {
    "collapsed": false,
    "ExecuteTime": {
     "end_time": "2023-12-23T13:29:10.168581Z",
     "start_time": "2023-12-23T13:29:10.160896Z"
    }
   },
   "id": "362a00bb2f1dadbd"
  },
  {
   "cell_type": "code",
   "execution_count": 7,
   "outputs": [],
   "source": [
    "def generate_batch(dataset, batch_size):\n",
    "    while True:\n",
    "        random.shuffle(dataset)\n",
    "        for i in range(0, len(dataset), batch_size):\n",
    "            yield dataset[i: i+batch_size]\n",
    "            "
   ],
   "metadata": {
    "collapsed": false,
    "ExecuteTime": {
     "end_time": "2023-12-23T13:29:11.481067Z",
     "start_time": "2023-12-23T13:29:11.477252Z"
    }
   },
   "id": "9bab5e20ff9eb75d"
  },
  {
   "cell_type": "code",
   "execution_count": 8,
   "outputs": [],
   "source": [
    "class MLP:\n",
    "    def __init__(self, input_size, layer_size, output_size, has_bias = False):\n",
    "        self.layer1 = torch.randn(input_size, layer_size)\n",
    "        self.layer2 = torch.randn(layer_size, output_size)\n",
    "        self.bias2 = torch.randn(output_size)\n",
    "        self.scale_factor = torch.ones(1, layer_size)\n",
    "        self.shift = torch.zeros(1, layer_size)\n",
    "        \n",
    "        self.layer1.requires_grad = True\n",
    "        self.layer2.requires_grad = True\n",
    "        self.scale_factor.requires_grad = True\n",
    "        self.shift.requires_grad = True\n",
    "        \n",
    "        \n",
    "    def forward(self, input_tensor):\n",
    "        layer_out = input_tensor @ self.layer1\n",
    "        mean = layer_out.mean(dim = 0, keepdim = True)\n",
    "        variance = layer_out.var(dim = 0, keepdim = True)\n",
    "        layer_out = self.scale_factor * (layer_out - mean)/(variance**0.5 + 1e-7) + self.shift\n",
    "        layer_out = F.tanh(layer_out)\n",
    "        layer_out = layer_out @ self.layer2 + self.bias2\n",
    "        return layer_out\n",
    "    \n",
    "    def get_parameters(self):\n",
    "        parameters = [self.layer1, self.layer2, self.bias2, self.scale_factor, self.shift]\n",
    "        return parameters\n",
    "    \n",
    "    def flush_gradients(self):\n",
    "        parameters = self.get_parameters()\n",
    "        for p in parameters:\n",
    "            p.grad = None\n",
    "    \n",
    "    def apply_gradients(self, lr):\n",
    "        parameters = self.get_parameters()\n",
    "        for p in parameters:\n",
    "            if p.grad is not None:\n",
    "                p.data -= lr * p.grad\n",
    "        "
   ],
   "metadata": {
    "collapsed": false,
    "ExecuteTime": {
     "end_time": "2023-12-23T13:29:12.341894Z",
     "start_time": "2023-12-23T13:29:12.339340Z"
    }
   },
   "id": "eb70f97aeea63187"
  },
  {
   "cell_type": "code",
   "execution_count": 9,
   "outputs": [],
   "source": [
    "class Embedding:\n",
    "    def __init__(self, embedding_size, vocab_size):\n",
    "        self.embedding_lookup = {}\n",
    "        for token in range(vocab_size):\n",
    "            self.embedding_lookup[token] = torch.randn(embedding_size)\n",
    "            self.embedding_lookup[token].requires_grad = True\n",
    "            \n",
    "    def forward(self, input_token):\n",
    "        if type(input_token) is list:\n",
    "            output = []\n",
    "            for token in input_token:\n",
    "                output.append(self.embedding_lookup[token])\n",
    "            return output\n",
    "        \n",
    "        return self.embedding_lookup[input_token]\n",
    "    \n",
    "    def get_parameters(self):\n",
    "        parameters = []\n",
    "        for key in self.embedding_lookup:\n",
    "            parameters.append(self.embedding_lookup[key])\n",
    "        return parameters\n",
    "    \n",
    "    def flush_gradients(self):\n",
    "        parameters = self.get_parameters()\n",
    "        for p in parameters:\n",
    "            p.grad = None\n",
    "            \n",
    "    def apply_gradients(self, lr):\n",
    "        parameters = self.get_parameters()\n",
    "        for p in parameters:\n",
    "            if p.grad is not None:\n",
    "                p.data -= lr * p.grad\n"
   ],
   "metadata": {
    "collapsed": false,
    "ExecuteTime": {
     "end_time": "2023-12-23T13:29:13.001495Z",
     "start_time": "2023-12-23T13:29:12.996391Z"
    }
   },
   "id": "69453429ace37de7"
  },
  {
   "cell_type": "code",
   "execution_count": 24,
   "outputs": [],
   "source": [
    "sequence_size = 8\n",
    "all_sequences = []\n",
    "for name in namesList:\n",
    "    sequence = []\n",
    "    for i in range(sequence_size+1):\n",
    "        sequence += [startChar]\n",
    "    for i in range(len(name)+1):\n",
    "        if i == len(name):\n",
    "            char = endChar\n",
    "        else:\n",
    "            char = name[i]\n",
    "        sequence = sequence[1:] + [char]\n",
    "        all_sequences.append(sequence)"
   ],
   "metadata": {
    "collapsed": false,
    "ExecuteTime": {
     "end_time": "2023-12-23T13:37:51.062005Z",
     "start_time": "2023-12-23T13:37:50.052483Z"
    }
   },
   "id": "5cce098da6dc620a"
  },
  {
   "cell_type": "code",
   "execution_count": 25,
   "outputs": [],
   "source": [
    "\n",
    "embedding_size = 15\n",
    "layer_size = 200\n",
    "\n",
    "char_to_idx_map = {}\n",
    "idx_to_char_map = {}\n",
    "idx = 0\n",
    "\n",
    "for char in uniqueChar:\n",
    "    char_to_idx_map[char] = idx\n",
    "    idx_to_char_map[idx] = char\n",
    "    idx+=1\n",
    "\n",
    "char_embedding = Embedding(embedding_size, len(uniqueChar))\n",
    "model = MLP(embedding_size * sequence_size, layer_size, len(uniqueChar))\n",
    "parameters = [char_embedding, model]\n",
    "loss_arr = []"
   ],
   "metadata": {
    "collapsed": false,
    "ExecuteTime": {
     "end_time": "2023-12-23T13:37:51.071127Z",
     "start_time": "2023-12-23T13:37:51.063886Z"
    }
   },
   "id": "8b478818301dda83"
  },
  {
   "cell_type": "code",
   "execution_count": 26,
   "outputs": [
    {
     "name": "stdout",
     "output_type": "stream",
     "text": [
      "5000  :  0.43266974824666976   2.708131496773214\n",
      "10000  :  0.41079887437820434   2.5751283160811744\n",
      "15000  :  0.4000592162758112   2.512228951866372\n",
      "20000  :  0.39401897087693216   2.477530278891997\n",
      "25000  :  0.3887289659976959   2.447535310089411\n",
      "30000  :  0.38502214847505095   2.4267338523160307\n",
      "35000  :  0.3790310778319836   2.3934870266595194\n",
      "40000  :  0.37881170777976514   2.392278338062969\n",
      "45000  :  0.3732568781226873   2.361874830656353\n",
      "50000  :  0.3713267930150032   2.3514015114195708\n",
      "55000  :  0.36792445757985115   2.333052209232714\n",
      "60000  :  0.3634307310730219   2.3090361438271882\n",
      "65000  :  0.367023697450757   2.3282182943542695\n",
      "70000  :  0.3645123767852783   2.3147941534708756\n",
      "75000  :  0.36196045377850533   2.3012322610175895\n",
      "80000  :  0.3611896738409996   2.2971516874554427\n",
      "85000  :  0.35720740485936403   2.276184202477058\n",
      "90000  :  0.35512659734487534   2.2653045502597995\n",
      "95000  :  0.3553436737805605   2.26643711623625\n",
      "100000  :  0.3543277638852596   2.2611416195931375\n",
      "105000  :  0.3402166469693184   2.188853256896385\n",
      "110000  :  0.34271512265503407   2.201481917735753\n",
      "115000  :  0.34040165570378306   2.189785903419922\n",
      "120000  :  0.3422413775920868   2.1990817662261124\n",
      "125000  :  0.34003818617761133   2.1879539955553153\n",
      "130000  :  0.3394476725757122   2.1849810390385893\n",
      "135000  :  0.3395627316683531   2.1855599900766207\n",
      "140000  :  0.3386795094907284   2.1811197459371305\n",
      "145000  :  0.33981306706368924   2.1868201505510996\n",
      "150000  :  0.3377090974971652   2.1762515703067975\n",
      "155000  :  0.3389101790189743   2.1822785253357435\n",
      "160000  :  0.33837150302529334   2.179573420012486\n",
      "165000  :  0.3371119087636471   2.173261111449053\n",
      "170000  :  0.33518771281838416   2.16365350621968\n",
      "175000  :  0.33975812590122223   2.1865435206448054\n",
      "180000  :  0.3377882932275534   2.176648456648152\n",
      "185000  :  0.33853313125669954   2.1803847270236743\n",
      "190000  :  0.3382258597612381   2.178842609517358\n",
      "195000  :  0.3368402978777885   2.1719023632824492\n",
      "200000  :  0.33963723066449164   2.1859349338028546\n"
     ]
    }
   ],
   "source": [
    "num_iterations = 200000\n",
    "batch_size = 32\n",
    "idx = 0  \n",
    "\n",
    "batch_generator = generate_batch(all_sequences, batch_size)\n",
    "for i in range(num_iterations):\n",
    "    for p in parameters:\n",
    "        p.flush_gradients()\n",
    "    \n",
    "    idx += 1\n",
    "    batch = next(batch_generator)\n",
    "    X = []\n",
    "    Y = []\n",
    "    for row in batch:\n",
    "        input_sequence = row[:-1]\n",
    "        next_char = row[-1]\n",
    "        input_embedding = char_embedding.forward([char_to_idx_map[char] for char in input_sequence])\n",
    "        ohe = F.one_hot(torch.tensor(char_to_idx_map[next_char]), len(uniqueChar))\n",
    "        X.append(torch.cat(input_embedding))\n",
    "        Y.append(ohe)\n",
    "        \n",
    "    X = torch.stack(X)\n",
    "    Y = torch.stack(Y)\n",
    "    # print(X)\n",
    "    # print(\"------\")\n",
    "    # print(X.shape)\n",
    "    output = model.forward(X)\n",
    "    \n",
    "    # print(output.shape)\n",
    "    # print(Y.shape)\n",
    "    # print(Y[0])\n",
    "    # print(output)\n",
    "    # break\n",
    "    loss = F.cross_entropy(output, Y.float())\n",
    "    loss_arr.append(loss.log10().item())\n",
    "    \n",
    "    if idx < 100000:\n",
    "        lr = 0.1\n",
    "        \n",
    "    elif idx < 150000:\n",
    "        lr = 0.01\n",
    "    else:\n",
    "        lr = 0.002\n",
    "        \n",
    "    loss.backward()\n",
    "    for p in parameters:\n",
    "        p.apply_gradients(lr)\n",
    "        \n",
    "    if idx % 5000 == 0:\n",
    "        print(idx, \" : \", np.mean(loss_arr[-1000:]), \" \", 10**np.mean(loss_arr[-1000:]))\n",
    "    "
   ],
   "metadata": {
    "collapsed": false,
    "ExecuteTime": {
     "end_time": "2023-12-23T13:41:16.626915Z",
     "start_time": "2023-12-23T13:37:51.159093Z"
    }
   },
   "id": "59acd096c5601343"
  },
  {
   "cell_type": "code",
   "execution_count": 27,
   "outputs": [
    {
     "data": {
      "text/plain": "[<matplotlib.lines.Line2D at 0x16ca844d0>]"
     },
     "execution_count": 27,
     "metadata": {},
     "output_type": "execute_result"
    },
    {
     "data": {
      "text/plain": "<Figure size 640x480 with 1 Axes>",
      "image/png": "[encoded data removed]"
     },
     "metadata": {},
     "output_type": "display_data"
    }
   ],
   "source": [
    "sampled_data = loss_arr[::100]  # Adjust the step for sampling as needed\n",
    "plt.plot(sampled_data)"
   ],
   "metadata": {
    "collapsed": false,
    "ExecuteTime": {
     "end_time": "2023-12-23T13:41:18.812333Z",
     "start_time": "2023-12-23T13:41:18.755051Z"
    }
   },
   "id": "afe4759856c22e0e"
  },
  {
   "cell_type": "code",
   "execution_count": 28,
   "outputs": [
    {
     "data": {
      "text/plain": "<Figure size 1000x1000 with 1 Axes>",
      "image/png": "[encoded data removed]"
     },
     "metadata": {},
     "output_type": "display_data"
    }
   ],
   "source": [
    "## For embeddings greater than 2, supress data to 2 dimensions\n",
    "embeddings = []\n",
    "chars = []\n",
    "\n",
    "for char in uniqueChar:\n",
    "    idx = char_to_idx_map[char]\n",
    "    embeddings.append(char_embedding.forward(idx))\n",
    "    chars.append(char)\n",
    "\n",
    "embedding_tensor = torch.stack(embeddings)\n",
    "\n",
    "pca = PCA(n_components=2)\n",
    "reduced_embeddings = pca.fit_transform(embedding_tensor.detach().numpy())\n",
    "\n",
    "# Plot\n",
    "plt.figure(figsize=(10, 10))\n",
    "for i, char in enumerate(chars):\n",
    "    if (char.isascii() and char.isalpha()) or char == startChar or char == endChar:\n",
    "        plt.scatter(reduced_embeddings[i, 0], reduced_embeddings[i, 1])\n",
    "        plt.annotate(char, (reduced_embeddings[i, 0], reduced_embeddings[i, 1]))\n"
   ],
   "metadata": {
    "collapsed": false,
    "ExecuteTime": {
     "end_time": "2023-12-23T13:41:30.352114Z",
     "start_time": "2023-12-23T13:41:30.182772Z"
    }
   },
   "id": "d20f0a28fa9586ec"
  },
  {
   "cell_type": "code",
   "execution_count": 29,
   "outputs": [],
   "source": [
    "def next_char_generate(sequence):\n",
    "    sequence = sequence[-sequence_size:]\n",
    "    input_tensor = []\n",
    "    for char in sequence:\n",
    "        input_tensor.append(char_embedding.forward(char_to_idx_map[char]))\n",
    "    input_tensor = torch.cat(input_tensor)\n",
    "    out = model.forward(input_tensor)\n",
    "    # print(out)\n",
    "    # Sample an index, treating the tensor's values as probabilities\n",
    "    sampled_index = torch.multinomial(F.softmax(out), num_samples=1).item()\n",
    "    return idx_to_char_map[sampled_index]"
   ],
   "metadata": {
    "collapsed": false,
    "ExecuteTime": {
     "end_time": "2023-12-23T13:41:36.733646Z",
     "start_time": "2023-12-23T13:41:36.729849Z"
    }
   },
   "id": "b7865a67fff271ba"
  },
  {
   "cell_type": "code",
   "execution_count": 30,
   "outputs": [],
   "source": [
    "start_sequence = []\n",
    "for i in range(sequence_size):\n",
    "    start_sequence.append(startChar)"
   ],
   "metadata": {
    "collapsed": false,
    "ExecuteTime": {
     "end_time": "2023-12-23T13:41:37.059642Z",
     "start_time": "2023-12-23T13:41:37.056278Z"
    }
   },
   "id": "ed5e0d36345fbe03"
  },
  {
   "cell_type": "code",
   "execution_count": 31,
   "outputs": [],
   "source": [
    "def gen_name(sequence):\n",
    "    name = ''\n",
    "    for char in sequence:\n",
    "        if char != startChar:\n",
    "            name += char\n",
    "    while True:\n",
    "        # print(sequence)\n",
    "        next_char = next_char_generate(sequence)\n",
    "        # print(next_char)\n",
    "        sequence = sequence[1:] + [next_char]\n",
    "        if next_char == endChar:\n",
    "            break\n",
    "        name += next_char\n",
    "        \n",
    "    return name"
   ],
   "metadata": {
    "collapsed": false,
    "ExecuteTime": {
     "end_time": "2023-12-23T13:41:38.022678Z",
     "start_time": "2023-12-23T13:41:38.014221Z"
    }
   },
   "id": "482ce88235cc0433"
  },
  {
   "cell_type": "code",
   "execution_count": 36,
   "outputs": [
    {
     "name": "stderr",
     "output_type": "stream",
     "text": [
      "/var/folders/74/h39_kcwj7_j6r865dqfty2cc0000gn/T/ipykernel_19299/3507051933.py:10: UserWarning: Implicit dimension choice for softmax has been deprecated. Change the call to include dim=X as an argument.\n",
      "  sampled_index = torch.multinomial(F.softmax(out), num_samples=1).item()\n"
     ]
    },
    {
     "data": {
      "text/plain": "['lolia',\n 'reina',\n 'amsisankamaligot pangali',\n 'amallain',\n 'ninabrismelta',\n 'rushriqhithu penis',\n 'sanirras',\n 'melrandalai',\n 'amrlynchanj',\n 'imanaman']"
     },
     "execution_count": 36,
     "metadata": {},
     "output_type": "execute_result"
    }
   ],
   "source": [
    "names = []\n",
    "for i in range(10):\n",
    "    names.append(gen_name(start_sequence))\n",
    "names"
   ],
   "metadata": {
    "collapsed": false,
    "ExecuteTime": {
     "end_time": "2023-12-23T13:42:06.657107Z",
     "start_time": "2023-12-23T13:42:06.645451Z"
    }
   },
   "id": "93c6e88063b1c69e"
  },
  {
   "cell_type": "code",
   "execution_count": 37,
   "outputs": [
    {
     "name": "stderr",
     "output_type": "stream",
     "text": [
      "/var/folders/74/h39_kcwj7_j6r865dqfty2cc0000gn/T/ipykernel_19299/3507051933.py:10: UserWarning: Implicit dimension choice for softmax has been deprecated. Change the call to include dim=X as an argument.\n",
      "  sampled_index = torch.multinomial(F.softmax(out), num_samples=1).item()\n"
     ]
    },
    {
     "data": {
      "text/plain": "['adenna',\n 'adrisrankale',\n 'adhirah sharan',\n 'addercelgmrefrenu',\n 'adeishahelhali',\n 'adena',\n 'adaiyazinsr',\n 'aderiakishnelighy',\n 'adamlee',\n 'adriora']"
     },
     "execution_count": 37,
     "metadata": {},
     "output_type": "execute_result"
    }
   ],
   "source": [
    "prefix = ['a', 'd']\n",
    "resList = []\n",
    "for i in range(10):\n",
    "    while(len(prefix) < sequence_size):\n",
    "        prefix = ['<S>'] + prefix\n",
    "    resList.append(gen_name(prefix))\n",
    "    \n",
    "resList"
   ],
   "metadata": {
    "collapsed": false,
    "ExecuteTime": {
     "end_time": "2023-12-23T13:42:07.068526Z",
     "start_time": "2023-12-23T13:42:07.061730Z"
    }
   },
   "id": "928d45588c6a9a0c"
  },
  {
   "cell_type": "code",
   "execution_count": null,
   "outputs": [],
   "source": [],
   "metadata": {
    "collapsed": false
   },
   "id": "cec8fb29bb59268c"
  }
 ],
 "metadata": {
  "kernelspec": {
   "display_name": "Python 3",
   "language": "python",
   "name": "python3"
  },
  "language_info": {
   "codemirror_mode": {
    "name": "ipython",
    "version": 2
   },
   "file_extension": ".py",
   "mimetype": "text/x-python",
   "name": "python",
   "nbconvert_exporter": "python",
   "pygments_lexer": "ipython2",
   "version": "2.7.6"
  }
 },
 "nbformat": 4,
 "nbformat_minor": 5
}

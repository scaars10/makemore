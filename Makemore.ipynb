{
 "cells": [
  {
   "cell_type": "code",
   "execution_count": 1,
   "id": "initial_id",
   "metadata": {
    "collapsed": true,
    "ExecuteTime": {
     "end_time": "2023-12-23T17:30:48.048711Z",
     "start_time": "2023-12-23T17:30:46.012908Z"
    }
   },
   "outputs": [],
   "source": [
    "import torch\n",
    "import pandas as pd\n",
    "import numpy as np\n",
    "import random\n",
    "\n",
    "import torch.nn.functional as F\n",
    "\n",
    "import matplotlib.pyplot as plt\n",
    "from sklearn.decomposition import PCA"
   ]
  },
  {
   "cell_type": "code",
   "execution_count": 2,
   "outputs": [],
   "source": [
    "# tempDf = pd.read_csv('names/Indian-Male-Names.csv')\n",
    "# namesList = tempDf['name'][tempDf['name'].notna()].tolist()\n",
    "# tempDf = pd.read_csv('names/Indian-Female-Names.csv')\n",
    "# namesList.extend(tempDf['name'][tempDf['name'].notna()].tolist())"
   ],
   "metadata": {
    "collapsed": false,
    "ExecuteTime": {
     "end_time": "2023-12-23T17:30:48.623747Z",
     "start_time": "2023-12-23T17:30:48.601477Z"
    }
   },
   "id": "69990fa864997253"
  },
  {
   "cell_type": "code",
   "execution_count": 3,
   "outputs": [],
   "source": [
    "# namesList = namesList + open('names/names.txt', 'r').read().splitlines()"
   ],
   "metadata": {
    "collapsed": false,
    "ExecuteTime": {
     "end_time": "2023-12-23T17:30:49.112782Z",
     "start_time": "2023-12-23T17:30:49.106102Z"
    }
   },
   "id": "f08a4c27230a0881"
  },
  {
   "cell_type": "code",
   "execution_count": 4,
   "outputs": [],
   "source": [
    "namesList = open('names/manga_names.txt', 'r').read().splitlines()"
   ],
   "metadata": {
    "collapsed": false,
    "ExecuteTime": {
     "end_time": "2023-12-23T17:30:50.053332Z",
     "start_time": "2023-12-23T17:30:50.040632Z"
    }
   },
   "id": "f1f7a12ad6346f0d"
  },
  {
   "cell_type": "code",
   "execution_count": 5,
   "outputs": [],
   "source": [
    "uniqueChar = set()\n",
    "for name in namesList:\n",
    "        for char in name:\n",
    "            uniqueChar.add(char)\n"
   ],
   "metadata": {
    "collapsed": false,
    "ExecuteTime": {
     "end_time": "2023-12-23T17:30:52.554190Z",
     "start_time": "2023-12-23T17:30:52.536694Z"
    }
   },
   "id": "f5a937d24dff5fb6"
  },
  {
   "cell_type": "code",
   "execution_count": 6,
   "outputs": [
    {
     "name": "stdout",
     "output_type": "stream",
     "text": [
      "Total names :- 116943\n",
      "Total unique characters :- 155\n"
     ]
    }
   ],
   "source": [
    "startChar = '<S>'\n",
    "endChar = '<E>'\n",
    "uniqueChar.add(startChar)\n",
    "uniqueChar.add(endChar)\n",
    "print(f'Total names :- {len(namesList)}')\n",
    "print(f'Total unique characters :- {len(uniqueChar)}')"
   ],
   "metadata": {
    "collapsed": false,
    "ExecuteTime": {
     "end_time": "2023-12-23T17:30:53.331271Z",
     "start_time": "2023-12-23T17:30:53.324636Z"
    }
   },
   "id": "336d107262b0406c"
  },
  {
   "cell_type": "code",
   "execution_count": 7,
   "outputs": [
    {
     "data": {
      "text/plain": "['フォケイロン',\n 'Fokeiron',\n '原',\n 'Hara',\n 'Yuan',\n '\"Asakusa\"',\n '\"Buzz\" Sebastian',\n '\"Minnie C\" Tachibana',\n '\"Musashi\"',\n '\"Musashino\"']"
     },
     "execution_count": 7,
     "metadata": {},
     "output_type": "execute_result"
    }
   ],
   "source": [
    "namesList[-5:] + namesList[:5]"
   ],
   "metadata": {
    "collapsed": false,
    "ExecuteTime": {
     "end_time": "2023-12-23T17:30:54.261247Z",
     "start_time": "2023-12-23T17:30:54.257264Z"
    }
   },
   "id": "362a00bb2f1dadbd"
  },
  {
   "cell_type": "code",
   "execution_count": 8,
   "outputs": [],
   "source": [
    "def generate_batch(dataset, batch_size):\n",
    "    while True:\n",
    "        random.shuffle(dataset)\n",
    "        for i in range(0, len(dataset), batch_size):\n",
    "            yield dataset[i: i+batch_size]\n",
    "            "
   ],
   "metadata": {
    "collapsed": false,
    "ExecuteTime": {
     "end_time": "2023-12-23T17:30:54.778994Z",
     "start_time": "2023-12-23T17:30:54.773985Z"
    }
   },
   "id": "9bab5e20ff9eb75d"
  },
  {
   "cell_type": "code",
   "execution_count": 9,
   "outputs": [],
   "source": [
    "class MLP:\n",
    "    def __init__(self, input_size, layer_size, output_size, has_bias = False):\n",
    "        self.layer1 = torch.randn(input_size, layer_size)\n",
    "        self.layer2 = torch.randn(layer_size, output_size)\n",
    "        self.bias2 = torch.randn(output_size)\n",
    "        self.scale_factor = torch.ones(1, layer_size)\n",
    "        self.shift = torch.zeros(1, layer_size)\n",
    "        \n",
    "        self.layer1.requires_grad = True\n",
    "        self.layer2.requires_grad = True\n",
    "        self.scale_factor.requires_grad = True\n",
    "        self.shift.requires_grad = True\n",
    "        \n",
    "        self.running_mean = torch.zeros(1, layer_size)\n",
    "        self.running_var = torch.ones(1, layer_size)\n",
    "        self.exp_weight = 1e-3\n",
    "        \n",
    "    def forward(self, input_tensor, is_training = False):\n",
    "        layer_out = input_tensor @ self.layer1\n",
    "        if is_training:\n",
    "            mean = layer_out.mean(dim = 0, keepdim = True)\n",
    "            variance = layer_out.var(dim = 0, keepdim = True)\n",
    "            self.running_mean = self.running_mean*(1 - self.exp_weight) + mean*self.exp_weight\n",
    "            self.running_var = self.running_var*(1 - self.exp_weight) + variance*self.exp_weight\n",
    "        else:\n",
    "            mean = self.running_mean\n",
    "            variance = self.running_var\n",
    "        layer_out = self.scale_factor * (layer_out - mean)/(variance**0.5 + 1e-7) + self.shift\n",
    "        layer_out = F.tanh(layer_out)\n",
    "        layer_out = layer_out @ self.layer2 + self.bias2\n",
    "        return layer_out\n",
    "    \n",
    "    def get_parameters(self):\n",
    "        parameters = [self.layer1, self.layer2, self.bias2, self.scale_factor, self.shift]\n",
    "        return parameters\n",
    "    \n",
    "    def flush_gradients(self):\n",
    "        parameters = self.get_parameters()\n",
    "        for p in parameters:\n",
    "            p.grad = None\n",
    "    \n",
    "    def apply_gradients(self, lr):\n",
    "        parameters = self.get_parameters()\n",
    "        for p in parameters:\n",
    "            if p.grad is not None:\n",
    "                p.data -= lr * p.grad\n",
    "        "
   ],
   "metadata": {
    "collapsed": false,
    "ExecuteTime": {
     "end_time": "2023-12-23T17:30:55.437596Z",
     "start_time": "2023-12-23T17:30:55.435481Z"
    }
   },
   "id": "eb70f97aeea63187"
  },
  {
   "cell_type": "code",
   "execution_count": 10,
   "outputs": [],
   "source": [
    "class Embedding:\n",
    "    def __init__(self, embedding_size, vocab_size):\n",
    "        self.embedding_lookup = {}\n",
    "        for token in range(vocab_size):\n",
    "            self.embedding_lookup[token] = torch.randn(embedding_size)\n",
    "            self.embedding_lookup[token].requires_grad = True\n",
    "            \n",
    "    def forward(self, input_token):\n",
    "        if type(input_token) is list:\n",
    "            output = []\n",
    "            for token in input_token:\n",
    "                output.append(self.embedding_lookup[token])\n",
    "            return output\n",
    "        \n",
    "        return self.embedding_lookup[input_token]\n",
    "    \n",
    "    def get_parameters(self):\n",
    "        parameters = []\n",
    "        for key in self.embedding_lookup:\n",
    "            parameters.append(self.embedding_lookup[key])\n",
    "        return parameters\n",
    "    \n",
    "    def flush_gradients(self):\n",
    "        parameters = self.get_parameters()\n",
    "        for p in parameters:\n",
    "            p.grad = None\n",
    "            \n",
    "    def apply_gradients(self, lr):\n",
    "        parameters = self.get_parameters()\n",
    "        for p in parameters:\n",
    "            if p.grad is not None:\n",
    "                p.data -= lr * p.grad\n"
   ],
   "metadata": {
    "collapsed": false,
    "ExecuteTime": {
     "end_time": "2023-12-23T17:30:55.976259Z",
     "start_time": "2023-12-23T17:30:55.970987Z"
    }
   },
   "id": "69453429ace37de7"
  },
  {
   "cell_type": "code",
   "execution_count": 15,
   "outputs": [],
   "source": [
    "sequence_size = 8\n",
    "all_sequences = []\n",
    "for name in namesList:\n",
    "    sequence = []\n",
    "    for i in range(sequence_size+1):\n",
    "        sequence += [startChar]\n",
    "    for i in range(len(name)+1):\n",
    "        if i == len(name):\n",
    "            char = endChar\n",
    "        else:\n",
    "            char = name[i]\n",
    "        sequence = sequence[1:] + [char]\n",
    "        all_sequences.append(sequence)\n",
    "        "
   ],
   "metadata": {
    "collapsed": false,
    "ExecuteTime": {
     "end_time": "2023-12-23T17:31:43.055010Z",
     "start_time": "2023-12-23T17:31:39.633849Z"
    }
   },
   "id": "5cce098da6dc620a"
  },
  {
   "cell_type": "code",
   "execution_count": 16,
   "outputs": [
    {
     "name": "stdout",
     "output_type": "stream",
     "text": [
      "1457732 76723\n"
     ]
    }
   ],
   "source": [
    "train_size = 0.95\n",
    "random.shuffle(all_sequences)\n",
    "train_length = int(len(all_sequences) * train_size)\n",
    "train_sequences = all_sequences[:train_length]\n",
    "val_sequence = all_sequences[train_length:]\n",
    "print(len(train_sequences), len(val_sequence))"
   ],
   "metadata": {
    "collapsed": false,
    "ExecuteTime": {
     "end_time": "2023-12-23T17:31:44.594324Z",
     "start_time": "2023-12-23T17:31:44.002548Z"
    }
   },
   "id": "b2958bc880bda36d"
  },
  {
   "cell_type": "code",
   "execution_count": 17,
   "outputs": [],
   "source": [
    "\n",
    "embedding_size = 20\n",
    "layer_size = 300\n",
    "\n",
    "char_to_idx_map = {}\n",
    "idx_to_char_map = {}\n",
    "idx = 0\n",
    "\n",
    "for char in uniqueChar:\n",
    "    char_to_idx_map[char] = idx\n",
    "    idx_to_char_map[idx] = char\n",
    "    idx+=1\n",
    "\n",
    "char_embedding = Embedding(embedding_size, len(uniqueChar))\n",
    "model = MLP(embedding_size * sequence_size, layer_size, len(uniqueChar))\n",
    "parameters = [char_embedding, model]\n",
    "\n",
    "loss_arr = []\n"
   ],
   "metadata": {
    "collapsed": false,
    "ExecuteTime": {
     "end_time": "2023-12-23T17:31:48.013704Z",
     "start_time": "2023-12-23T17:31:48.005283Z"
    }
   },
   "id": "8b478818301dda83"
  },
  {
   "cell_type": "code",
   "execution_count": 18,
   "outputs": [
    {
     "name": "stdout",
     "output_type": "stream",
     "text": [
      "5000  :  0.4886968391537666   3.081036470672932\n",
      "10000  :  0.46058952051401136   2.887949006728815\n",
      "15000  :  0.44584834069013596   2.791568831536733\n",
      "20000  :  0.4368578822016716   2.7343737879903975\n",
      "25000  :  0.43226591154932975   2.705614461418675\n",
      "30000  :  0.4265507118403912   2.670242548683154\n",
      "35000  :  0.42196820652484895   2.6422153211038433\n",
      "40000  :  0.4206607137620449   2.6342725946366294\n",
      "45000  :  0.41457245182991026   2.597601053958346\n",
      "50000  :  0.413850968927145   2.593289304743632\n",
      "55000  :  0.40904722931981086   2.5647629381105412\n",
      "60000  :  0.4077883288860321   2.557339159653438\n",
      "65000  :  0.4061742537021637   2.547852332448905\n",
      "70000  :  0.405480238199234   2.543784040111461\n",
      "75000  :  0.40387687519192694   2.534410009845401\n",
      "80000  :  0.4003473098278046   2.5138960167292743\n",
      "85000  :  0.4012217061817646   2.518962523275139\n",
      "90000  :  0.3957618766129017   2.487493053451043\n",
      "95000  :  0.3962904013991356   2.490522108832163\n",
      "100000  :  0.3941931967288256   2.478524388730939\n",
      "105000  :  0.37071541990339757   2.348093681543373\n",
      "110000  :  0.36903630377352237   2.339032756147875\n",
      "115000  :  0.3715108675509691   2.352398357800679\n",
      "120000  :  0.3696661617159843   2.342427520004289\n",
      "125000  :  0.36829176464676855   2.3350262362710477\n",
      "130000  :  0.37083118760585787   2.3487196845341005\n",
      "135000  :  0.36843112133443356   2.33577562118973\n",
      "140000  :  0.3684091518521309   2.335657465225546\n",
      "145000  :  0.3674191187173128   2.330339081754853\n",
      "150000  :  0.36985157276690006   2.343427773723201\n",
      "155000  :  0.3668718739300966   2.3274045227439757\n",
      "160000  :  0.36637446339428426   2.3247404022643345\n",
      "165000  :  0.36920123332738874   2.3399212060504504\n",
      "170000  :  0.3668481160402298   2.3272772065789415\n",
      "175000  :  0.36589511394500734   2.3221759020945054\n",
      "180000  :  0.3688344335407019   2.337945771663098\n",
      "185000  :  0.3641013117134571   2.312604208885555\n",
      "190000  :  0.3661017214655876   2.323280896899983\n",
      "195000  :  0.3686449646800756   2.336926022788396\n",
      "200000  :  0.366686008900404   2.3264086764331315\n"
     ]
    }
   ],
   "source": [
    "num_iterations = 200000\n",
    "batch_size = 32\n",
    "idx = 0  \n",
    "\n",
    "batch_generator = generate_batch(train_sequences, batch_size)\n",
    "for i in range(num_iterations):\n",
    "    for p in parameters:\n",
    "        p.flush_gradients()\n",
    "    \n",
    "    idx += 1\n",
    "    batch = next(batch_generator)\n",
    "    X = []\n",
    "    Y = []\n",
    "    for row in batch:\n",
    "        input_sequence = row[:-1]\n",
    "        next_char = row[-1]\n",
    "        input_embedding = char_embedding.forward([char_to_idx_map[char] for char in input_sequence])\n",
    "        ohe = F.one_hot(torch.tensor(char_to_idx_map[next_char]), len(uniqueChar))\n",
    "        X.append(torch.cat(input_embedding))\n",
    "        Y.append(ohe)\n",
    "        \n",
    "    X = torch.stack(X)\n",
    "    Y = torch.stack(Y)\n",
    "    # print(X)\n",
    "    # print(\"------\")\n",
    "    # print(X.shape)\n",
    "    output = model.forward(X, is_training = True)\n",
    "    \n",
    "    # print(output.shape)\n",
    "    # print(Y.shape)\n",
    "    # print(Y[0])\n",
    "    # print(output)\n",
    "    # break\n",
    "    loss = F.cross_entropy(output, Y.float())\n",
    "    loss_arr.append(loss.log10().item())\n",
    "    \n",
    "    if idx < 100000:\n",
    "        lr = 0.1\n",
    "        \n",
    "    elif idx < 150000:\n",
    "        lr = 0.01\n",
    "    else:\n",
    "        lr = 0.002\n",
    "        \n",
    "    loss.backward()\n",
    "    for p in parameters:\n",
    "        p.apply_gradients(lr)\n",
    "        \n",
    "    if idx % 5000 == 0:\n",
    "        print(idx, \" : \", np.mean(loss_arr[-1000:]), \" \", 10**np.mean(loss_arr[-1000:]))\n",
    "    "
   ],
   "metadata": {
    "collapsed": false,
    "ExecuteTime": {
     "end_time": "2023-12-23T17:36:04.960897Z",
     "start_time": "2023-12-23T17:31:49.150941Z"
    }
   },
   "id": "59acd096c5601343"
  },
  {
   "cell_type": "code",
   "execution_count": 19,
   "outputs": [
    {
     "name": "stdout",
     "output_type": "stream",
     "text": [
      "Validation loss:  2.3117220401763916 log value: 0.3639356195926666\n"
     ]
    }
   ],
   "source": [
    "# Validation set\n",
    "with torch.no_grad():\n",
    "    X = []\n",
    "    Y = []\n",
    "    for row in val_sequence:\n",
    "        input_sequence = row[:-1]\n",
    "        next_char = row[-1]\n",
    "        input_embedding = char_embedding.forward([char_to_idx_map[char] for char in input_sequence])\n",
    "        ohe = F.one_hot(torch.tensor(char_to_idx_map[next_char]), len(uniqueChar))\n",
    "        X.append(torch.cat(input_embedding))\n",
    "        Y.append(ohe)\n",
    "        \n",
    "    X_val = torch.stack(X)\n",
    "    Y_val = torch.stack(Y)\n",
    "    \n",
    "    output = model.forward(X_val)\n",
    "    loss = F.cross_entropy(output, Y_val.float())\n",
    "    print(\"Validation loss: \", loss.item(), \"log value:\", loss.log10().item())"
   ],
   "metadata": {
    "collapsed": false,
    "ExecuteTime": {
     "end_time": "2023-12-23T17:36:52.802550Z",
     "start_time": "2023-12-23T17:36:51.423500Z"
    }
   },
   "id": "dc9c5fc82a1c4931"
  },
  {
   "cell_type": "code",
   "execution_count": 20,
   "outputs": [
    {
     "data": {
      "text/plain": "[<matplotlib.lines.Line2D at 0x10648de50>]"
     },
     "execution_count": 20,
     "metadata": {},
     "output_type": "execute_result"
    },
    {
     "data": {
      "text/plain": "<Figure size 640x480 with 1 Axes>",
      "image/png": "[encoded data removed]"
     },
     "metadata": {},
     "output_type": "display_data"
    }
   ],
   "source": [
    "sampled_data = loss_arr[::100]  # Adjust the step for sampling as needed\n",
    "plt.plot(sampled_data)"
   ],
   "metadata": {
    "collapsed": false,
    "ExecuteTime": {
     "end_time": "2023-12-23T17:37:02.514978Z",
     "start_time": "2023-12-23T17:37:02.211827Z"
    }
   },
   "id": "afe4759856c22e0e"
  },
  {
   "cell_type": "code",
   "execution_count": 21,
   "outputs": [
    {
     "data": {
      "text/plain": "<Figure size 1000x1000 with 1 Axes>",
      "image/png": "[encoded data removed]"
     },
     "metadata": {},
     "output_type": "display_data"
    }
   ],
   "source": [
    "## For embeddings greater than 2, supress data to 2 dimensions\n",
    "embeddings = []\n",
    "chars = []\n",
    "\n",
    "for char in uniqueChar:\n",
    "    idx = char_to_idx_map[char]\n",
    "    embeddings.append(char_embedding.forward(idx))\n",
    "    chars.append(char)\n",
    "\n",
    "embedding_tensor = torch.stack(embeddings)\n",
    "\n",
    "pca = PCA(n_components=2)\n",
    "reduced_embeddings = pca.fit_transform(embedding_tensor.detach().numpy())\n",
    "\n",
    "# Plot\n",
    "plt.figure(figsize=(10, 10))\n",
    "for i, char in enumerate(chars):\n",
    "    if (char.isascii() and char.isalpha()) or char == startChar or char == endChar:\n",
    "        plt.scatter(reduced_embeddings[i, 0], reduced_embeddings[i, 1])\n",
    "        plt.annotate(char, (reduced_embeddings[i, 0], reduced_embeddings[i, 1]))\n"
   ],
   "metadata": {
    "collapsed": false,
    "ExecuteTime": {
     "end_time": "2023-12-23T17:37:05.725758Z",
     "start_time": "2023-12-23T17:37:05.457642Z"
    }
   },
   "id": "d20f0a28fa9586ec"
  },
  {
   "cell_type": "code",
   "execution_count": 22,
   "outputs": [],
   "source": [
    "def next_char_generate(sequence):\n",
    "    sequence = sequence[-sequence_size:]\n",
    "    input_tensor = []\n",
    "    for char in sequence:\n",
    "        input_tensor.append(char_embedding.forward(char_to_idx_map[char]))\n",
    "    input_tensor = torch.cat(input_tensor)\n",
    "    out = model.forward(input_tensor)\n",
    "    # print(out)\n",
    "    # Sample an index, treating the tensor's values as probabilities\n",
    "    sampled_index = torch.multinomial(F.softmax(out), num_samples=1).item()\n",
    "    return idx_to_char_map[sampled_index]"
   ],
   "metadata": {
    "collapsed": false,
    "ExecuteTime": {
     "end_time": "2023-12-23T17:37:14.022088Z",
     "start_time": "2023-12-23T17:37:14.018708Z"
    }
   },
   "id": "b7865a67fff271ba"
  },
  {
   "cell_type": "code",
   "execution_count": 23,
   "outputs": [],
   "source": [
    "start_sequence = []\n",
    "for i in range(sequence_size):\n",
    "    start_sequence.append(startChar)"
   ],
   "metadata": {
    "collapsed": false,
    "ExecuteTime": {
     "end_time": "2023-12-23T17:37:15.893053Z",
     "start_time": "2023-12-23T17:37:15.885971Z"
    }
   },
   "id": "ed5e0d36345fbe03"
  },
  {
   "cell_type": "code",
   "execution_count": 24,
   "outputs": [],
   "source": [
    "def gen_name(sequence):\n",
    "    name = ''\n",
    "    for char in sequence:\n",
    "        if char != startChar:\n",
    "            name += char\n",
    "    while True:\n",
    "        # print(sequence)\n",
    "        next_char = next_char_generate(sequence)\n",
    "        # print(next_char)\n",
    "        sequence = sequence[1:] + [next_char]\n",
    "        if next_char == endChar:\n",
    "            break\n",
    "        name += next_char\n",
    "        \n",
    "    return name"
   ],
   "metadata": {
    "collapsed": false,
    "ExecuteTime": {
     "end_time": "2023-12-23T17:37:18.463151Z",
     "start_time": "2023-12-23T17:37:18.458662Z"
    }
   },
   "id": "482ce88235cc0433"
  },
  {
   "cell_type": "code",
   "execution_count": 25,
   "outputs": [
    {
     "name": "stderr",
     "output_type": "stream",
     "text": [
      "/var/folders/74/h39_kcwj7_j6r865dqfty2cc0000gn/T/ipykernel_22647/3507051933.py:10: UserWarning: Implicit dimension choice for softmax has been deprecated. Change the call to include dim=X as an argument.\n",
      "  sampled_index = torch.multinomial(F.softmax(out), num_samples=1).item()\n"
     ]
    },
    {
     "data": {
      "text/plain": "['Sniki',\n 'Mitama Ne Tehefura',\n 'Makukaka A',\n 'Memono Lyyukchichi',\n 'Madu Shoru',\n 'Yumekoro',\n 'Samisey Wohoro',\n 'Sarimei Okota Kunor',\n 'Youka reshi',\n 'Mino Kizuko']"
     },
     "execution_count": 25,
     "metadata": {},
     "output_type": "execute_result"
    }
   ],
   "source": [
    "names = []\n",
    "for i in range(10):\n",
    "    names.append(gen_name(start_sequence))\n",
    "names"
   ],
   "metadata": {
    "collapsed": false,
    "ExecuteTime": {
     "end_time": "2023-12-23T17:37:20.911927Z",
     "start_time": "2023-12-23T17:37:20.888923Z"
    }
   },
   "id": "93c6e88063b1c69e"
  },
  {
   "cell_type": "code",
   "execution_count": 27,
   "outputs": [
    {
     "name": "stderr",
     "output_type": "stream",
     "text": [
      "/var/folders/74/h39_kcwj7_j6r865dqfty2cc0000gn/T/ipykernel_22647/3507051933.py:10: UserWarning: Implicit dimension choice for softmax has been deprecated. Change the call to include dim=X as an argument.\n",
      "  sampled_index = torch.multinomial(F.softmax(out), num_samples=1).item()\n"
     ]
    },
    {
     "data": {
      "text/plain": "['kaki Ryou',\n 'kanzoro No Eminozu',\n 'kagleima',\n 'kageya Panshi',\n 'kala-Stio Conoon',\n 'kao vam.',\n 'kaipan',\n 'kamama Shiimi',\n 'karian',\n 'kaichina Komadai']"
     },
     "execution_count": 27,
     "metadata": {},
     "output_type": "execute_result"
    }
   ],
   "source": [
    "prefix = ['k', 'a']\n",
    "resList = []\n",
    "for i in range(10):\n",
    "    while(len(prefix) < sequence_size):\n",
    "        prefix = ['<S>'] + prefix\n",
    "    resList.append(gen_name(prefix))\n",
    "    \n",
    "resList"
   ],
   "metadata": {
    "collapsed": false,
    "ExecuteTime": {
     "end_time": "2023-12-23T17:37:37.769394Z",
     "start_time": "2023-12-23T17:37:37.752581Z"
    }
   },
   "id": "928d45588c6a9a0c"
  },
  {
   "cell_type": "code",
   "execution_count": null,
   "outputs": [],
   "source": [],
   "metadata": {
    "collapsed": false
   },
   "id": "cec8fb29bb59268c"
  }
 ],
 "metadata": {
  "kernelspec": {
   "display_name": "Python 3",
   "language": "python",
   "name": "python3"
  },
  "language_info": {
   "codemirror_mode": {
    "name": "ipython",
    "version": 2
   },
   "file_extension": ".py",
   "mimetype": "text/x-python",
   "name": "python",
   "nbconvert_exporter": "python",
   "pygments_lexer": "ipython2",
   "version": "2.7.6"
  }
 },
 "nbformat": 4,
 "nbformat_minor": 5
}

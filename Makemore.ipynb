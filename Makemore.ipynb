{
 "cells": [
  {
   "cell_type": "code",
   "execution_count": 1,
   "id": "initial_id",
   "metadata": {
    "collapsed": true,
    "ExecuteTime": {
     "end_time": "2023-12-18T07:20:19.677566Z",
     "start_time": "2023-12-18T07:20:18.452695Z"
    }
   },
   "outputs": [],
   "source": [
    "import torch\n",
    "import pandas as pd\n",
    "import numpy as np\n",
    "import random\n",
    "\n",
    "from torch.nn.functional import tanh\n",
    "from torch.nn.functional import softmax\n",
    "import torch.nn.functional as F"
   ]
  },
  {
   "cell_type": "code",
   "execution_count": 2,
   "outputs": [],
   "source": [
    "tempDf = pd.read_csv('Dataset-Indian-Names-master/Indian-Male-Names.csv')\n",
    "namesList = tempDf['name'][tempDf['name'].notna()].tolist()\n",
    "tempDf = pd.read_csv('Dataset-Indian-Names-master/Indian-Female-Names.csv')\n",
    "namesList.extend(tempDf['name'][tempDf['name'].notna()].tolist())"
   ],
   "metadata": {
    "collapsed": false,
    "ExecuteTime": {
     "end_time": "2023-12-18T07:20:22.084401Z",
     "start_time": "2023-12-18T07:20:22.057833Z"
    }
   },
   "id": "69990fa864997253"
  },
  {
   "cell_type": "code",
   "execution_count": 3,
   "outputs": [],
   "source": [
    "namesList = open('Dataset-Indian-Names-master/names.txt', 'r').read().splitlines()"
   ],
   "metadata": {
    "collapsed": false,
    "ExecuteTime": {
     "end_time": "2023-12-18T07:20:22.510017Z",
     "start_time": "2023-12-18T07:20:22.504184Z"
    }
   },
   "id": "f08a4c27230a0881"
  },
  {
   "cell_type": "code",
   "execution_count": 4,
   "outputs": [],
   "source": [
    "uniqueChar = set()\n",
    "for name in namesList:\n",
    "        for char in name:\n",
    "            uniqueChar.add(char)\n"
   ],
   "metadata": {
    "collapsed": false,
    "ExecuteTime": {
     "end_time": "2023-12-18T07:20:22.932598Z",
     "start_time": "2023-12-18T07:20:22.927644Z"
    }
   },
   "id": "f5a937d24dff5fb6"
  },
  {
   "cell_type": "code",
   "execution_count": 5,
   "outputs": [
    {
     "name": "stdout",
     "output_type": "stream",
     "text": [
      "Total names :- 32033\n",
      "Total unique characters :- 28\n"
     ]
    }
   ],
   "source": [
    "startChar = '<S>'\n",
    "endChar = '<E>'\n",
    "uniqueChar.add(startChar)\n",
    "uniqueChar.add(endChar)\n",
    "print(f'Total names :- {len(namesList)}')\n",
    "print(f'Total unique characters :- {len(uniqueChar)}')"
   ],
   "metadata": {
    "collapsed": false,
    "ExecuteTime": {
     "end_time": "2023-12-18T07:20:23.437363Z",
     "start_time": "2023-12-18T07:20:23.434651Z"
    }
   },
   "id": "336d107262b0406c"
  },
  {
   "cell_type": "code",
   "execution_count": 6,
   "outputs": [
    {
     "data": {
      "text/plain": "tensor([ 2.2757, -0.8100])"
     },
     "execution_count": 6,
     "metadata": {},
     "output_type": "execute_result"
    }
   ],
   "source": [
    "torch.randn(2)"
   ],
   "metadata": {
    "collapsed": false,
    "ExecuteTime": {
     "end_time": "2023-12-18T07:20:23.955211Z",
     "start_time": "2023-12-18T07:20:23.949090Z"
    }
   },
   "id": "1b81533ad840cb5"
  },
  {
   "cell_type": "markdown",
   "source": [
    "## Prepare char sequences"
   ],
   "metadata": {
    "collapsed": false
   },
   "id": "753eb1926d9a2d49"
  },
  {
   "cell_type": "code",
   "execution_count": 13,
   "outputs": [],
   "source": [
    "sequence_size = 3\n",
    "all_sequences = []\n",
    "for name in namesList:\n",
    "    sequence = []\n",
    "    for i in range(sequence_size+1):\n",
    "        sequence += [startChar]\n",
    "    for i in range(len(name)+1):\n",
    "        if i == len(name):\n",
    "            char = '<E>'\n",
    "        else:\n",
    "            char = name[i]\n",
    "        sequence = sequence[1:] + [char]\n",
    "        all_sequences.append(sequence)"
   ],
   "metadata": {
    "collapsed": false,
    "ExecuteTime": {
     "end_time": "2023-12-18T07:22:44.589292Z",
     "start_time": "2023-12-18T07:22:44.325721Z"
    }
   },
   "id": "79152d8fe1eb962c"
  },
  {
   "cell_type": "code",
   "execution_count": 13,
   "outputs": [],
   "source": [],
   "metadata": {
    "collapsed": false,
    "ExecuteTime": {
     "end_time": "2023-12-18T07:22:44.681246Z",
     "start_time": "2023-12-18T07:22:44.677789Z"
    }
   },
   "id": "3ee8c9a8a0c9f8c1"
  },
  {
   "cell_type": "code",
   "execution_count": 14,
   "outputs": [],
   "source": [
    "charEmbeddingSize = 2\n",
    "embeddingLookUp = {}\n",
    "charToIdxMap = {}\n",
    "idxToCharMap = {}\n",
    "idx = 0\n",
    "\n",
    "for char in uniqueChar:\n",
    "    embeddingLookUp[char] = torch.randn(charEmbeddingSize)\n",
    "    charToIdxMap[char] = idx\n",
    "    idxToCharMap[idx] = char\n",
    "    idx+=1\n",
    "    \n",
    "one_hot_encoded = torch.eye(len(uniqueChar))\n",
    "layer_size = 100\n",
    "W1 = torch.randn(charEmbeddingSize * sequence_size, layer_size)\n",
    "b1 = torch.randn(layer_size)\n",
    "\n",
    "W2 = torch.randn(layer_size, len(uniqueChar))\n",
    "b2 = torch.randn(len(uniqueChar))"
   ],
   "metadata": {
    "collapsed": false,
    "ExecuteTime": {
     "end_time": "2023-12-18T07:22:45.060171Z",
     "start_time": "2023-12-18T07:22:45.055433Z"
    }
   },
   "id": "e1dfcb34469928de"
  },
  {
   "cell_type": "code",
   "execution_count": 15,
   "outputs": [],
   "source": [
    "def generate_batch(dataset, batch_size):\n",
    "    while True:\n",
    "        random.shuffle(dataset)\n",
    "        for i in range(0, len(dataset), batch_size):\n",
    "            yield dataset[i: i+batch_size]\n",
    "            "
   ],
   "metadata": {
    "collapsed": false,
    "ExecuteTime": {
     "end_time": "2023-12-18T07:22:45.772836Z",
     "start_time": "2023-12-18T07:22:45.766666Z"
    }
   },
   "id": "9bab5e20ff9eb75d"
  },
  {
   "cell_type": "code",
   "execution_count": 16,
   "outputs": [
    {
     "name": "stdout",
     "output_type": "stream",
     "text": [
      "32\n"
     ]
    }
   ],
   "source": [
    "# Prepare list of parameters\n",
    "\n",
    "# Embeddings, W1, b1, W2, b2\n",
    "parameters = [W1, W2, b1, b2]\n",
    "\n",
    "for key in embeddingLookUp:\n",
    "    parameters.append(embeddingLookUp[key])\n",
    "\n",
    "# Make sure to set \n",
    "for p in parameters:\n",
    "    p.requires_grad = True\n",
    "print(len(parameters))\n",
    "lossArr = []"
   ],
   "metadata": {
    "collapsed": false,
    "ExecuteTime": {
     "end_time": "2023-12-18T07:22:46.217137Z",
     "start_time": "2023-12-18T07:22:46.212820Z"
    }
   },
   "id": "7ede690c42f7434b"
  },
  {
   "cell_type": "code",
   "execution_count": 17,
   "outputs": [
    {
     "name": "stdout",
     "output_type": "stream",
     "text": [
      "10000\n",
      "0.40744667223095893\n",
      "20000\n",
      "0.3929899191558361\n",
      "30000\n",
      "0.3892027229964733\n",
      "40000\n",
      "0.3847204420864582\n",
      "50000\n",
      "0.38337207382917404\n",
      "60000\n",
      "0.3812963389456272\n",
      "70000\n",
      "0.3781218470782042\n",
      "80000\n",
      "0.3765225687623024\n",
      "90000\n",
      "0.3758898879289627\n",
      "100000\n",
      "0.3765432702898979\n",
      "110000\n",
      "0.3745800365805626\n",
      "120000\n",
      "0.3732610098272562\n",
      "130000\n",
      "0.3707255246192217\n",
      "140000\n",
      "0.37250972309708597\n",
      "150000\n",
      "0.37259193961322307\n",
      "160000\n",
      "0.37127669927477835\n",
      "170000\n",
      "0.37158430136740206\n",
      "180000\n",
      "0.3683952831178904\n",
      "190000\n",
      "0.37026107209920883\n",
      "200000\n",
      "0.37132302221655844\n"
     ]
    }
   ],
   "source": [
    "## Try training against embedding\n",
    "\n",
    "num_iterations = 200000\n",
    "batch_size = 32\n",
    "lr = 0.01\n",
    "idx = 0\n",
    "batch_generator = generate_batch(all_sequences, batch_size)\n",
    "for i in range(num_iterations):\n",
    "    idx += 1\n",
    "    loss = None\n",
    "    for p in parameters:\n",
    "        p.grad = None\n",
    "    batch = next(batch_generator)\n",
    "    X = []\n",
    "    Y = []\n",
    "    for row in batch:\n",
    "        sequence = row[:-1]\n",
    "        y = row[-1]\n",
    "        input_tensor = []\n",
    "        for char in sequence:\n",
    "            input_tensor.append(embeddingLookUp[char])\n",
    "        target = one_hot_encoded[charToIdxMap[y]]\n",
    "        X.append(torch.cat(input_tensor))\n",
    "        Y.append(target)\n",
    "    # print(len(X))\n",
    "    # print(X[0])\n",
    "    # print(Y[0])\n",
    "    X = torch.stack(X)\n",
    "    Y = torch.stack(Y)\n",
    "    # print(X.shape)\n",
    "    # print(W1.shape)\n",
    "    # break\n",
    "    layerOut = tanh(X @ W1 + b1)\n",
    "    out = layerOut @ W2 + b2\n",
    "    \n",
    "    \n",
    "    #Calculate loss\n",
    "    loss = F.cross_entropy(out, Y)\n",
    "    lossArr.append(loss.log10().item())\n",
    "    if idx%10000 == 0:\n",
    "        print(idx)\n",
    "        print(np.mean(lossArr[-1000:]))\n",
    "    # break\n",
    "    loss.backward()\n",
    "    \n",
    "    for p in parameters:\n",
    "        if p.grad is not None:\n",
    "            p.data -= lr * p.grad\n",
    "            \n",
    "    \n"
   ],
   "metadata": {
    "collapsed": false,
    "ExecuteTime": {
     "end_time": "2023-12-18T07:24:18.244069Z",
     "start_time": "2023-12-18T07:22:46.742998Z"
    }
   },
   "id": "3db6a5ec19ccbe39"
  },
  {
   "cell_type": "code",
   "execution_count": 18,
   "outputs": [],
   "source": [
    "import matplotlib.pyplot as plt"
   ],
   "metadata": {
    "collapsed": false,
    "ExecuteTime": {
     "end_time": "2023-12-18T07:24:21.244291Z",
     "start_time": "2023-12-18T07:24:21.033344Z"
    }
   },
   "id": "166232f0b912c35b"
  },
  {
   "cell_type": "code",
   "execution_count": 19,
   "outputs": [
    {
     "data": {
      "text/plain": "<Figure size 640x480 with 1 Axes>",
      "image/png": "[encoded data removed]"
     },
     "metadata": {},
     "output_type": "display_data"
    }
   ],
   "source": [
    "for char in embeddingLookUp:\n",
    "    if char.isascii() is not True:\n",
    "        continue\n",
    "    embedding = embeddingLookUp[char].detach().numpy()\n",
    "    plt.scatter(embedding[0], embedding[1])\n",
    "    plt.annotate(char, (embedding[0], embedding[1]))"
   ],
   "metadata": {
    "collapsed": false,
    "ExecuteTime": {
     "end_time": "2023-12-18T07:24:21.906924Z",
     "start_time": "2023-12-18T07:24:21.760847Z"
    }
   },
   "id": "7ba7d11d608e5fbc"
  },
  {
   "cell_type": "code",
   "execution_count": 17,
   "outputs": [
    {
     "data": {
      "text/plain": "True"
     },
     "execution_count": 17,
     "metadata": {},
     "output_type": "execute_result"
    }
   ],
   "source": [
    "'<E>'.isascii()"
   ],
   "metadata": {
    "collapsed": false,
    "ExecuteTime": {
     "end_time": "2023-12-18T07:17:59.117527Z",
     "start_time": "2023-12-18T07:17:59.114Z"
    }
   },
   "id": "d20f0a28fa9586ec"
  },
  {
   "cell_type": "code",
   "execution_count": null,
   "outputs": [],
   "source": [],
   "metadata": {
    "collapsed": false
   },
   "id": "b7865a67fff271ba"
  }
 ],
 "metadata": {
  "kernelspec": {
   "display_name": "Python 3",
   "language": "python",
   "name": "python3"
  },
  "language_info": {
   "codemirror_mode": {
    "name": "ipython",
    "version": 2
   },
   "file_extension": ".py",
   "mimetype": "text/x-python",
   "name": "python",
   "nbconvert_exporter": "python",
   "pygments_lexer": "ipython2",
   "version": "2.7.6"
  }
 },
 "nbformat": 4,
 "nbformat_minor": 5
}
